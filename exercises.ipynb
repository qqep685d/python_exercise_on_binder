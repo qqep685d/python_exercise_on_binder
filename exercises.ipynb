{
 "cells": [
  {
   "cell_type": "markdown",
   "metadata": {},
   "source": [
    "# 練習1\n",
    "## FASTAファイル処理 - 各配列の情報をまとめ\n",
    "\n",
    "FASTAファイル（[sample.fasta](sample.fasta)）には、20個分のシーケンスが入っています。 \n",
    "\n",
    "\n",
    "それぞれのシーケンスの下記情報を取りまとめてください。  \n",
    "\n",
    "取りまとめる情報\n",
    "- 配列名\n",
    "- 配列の長さ\n",
    "- アデニン「A」の個数\n",
    "- チミン「T」の個数\n",
    "- シトシン「C」の個数\n",
    "- グアニン「G」の個数\n",
    "- 未定義塩基「N」の個数\n",
    "\n",
    "取りまとめたは情報は「タブ区切りファイル」に書き出してください。\n",
    "（出力ファイル名はなんでも構いません。）\n",
    "\n",
    "![fig1](fig/fig1.png \"fig1\")"
   ]
  },
  {
   "cell_type": "code",
   "execution_count": null,
   "metadata": {},
   "outputs": [],
   "source": []
  }
 ],
 "metadata": {
  "kernelspec": {
   "display_name": "Python 3",
   "language": "python",
   "name": "python3"
  },
  "language_info": {
   "codemirror_mode": {
    "name": "ipython",
    "version": 3
   },
   "file_extension": ".py",
   "mimetype": "text/x-python",
   "name": "python",
   "nbconvert_exporter": "python",
   "pygments_lexer": "ipython3",
   "version": "3.7.2"
  }
 },
 "nbformat": 4,
 "nbformat_minor": 2
}
